{
  "nbformat": 4,
  "nbformat_minor": 0,
  "metadata": {
    "colab": {
      "provenance": []
    },
    "kernelspec": {
      "name": "python3",
      "display_name": "Python 3"
    },
    "language_info": {
      "name": "python"
    }
  },
  "cells": [
    {
      "cell_type": "markdown",
      "source": [
        "# **Reto Pandas, Data 'Supermarket_sales.csv'**\n",
        "*Dataft14_grupo_3*. \n",
        "## 12 preguntas, 30 puntos, deberán resolverlo en este mismo notebook y comentar el procedimiento. Mucho Exito! (Defensa grupal para validar la nota)"
      ],
      "metadata": {
        "id": "Pb2tuzEvyryU"
      }
    },
    {
      "cell_type": "code",
      "execution_count": 99,
      "metadata": {
        "id": "P4zKdK6uFo7s"
      },
      "outputs": [],
      "source": []
    },
    {
      "cell_type": "markdown",
      "source": [
        "## 1.- Total de la resta de la columna 'Total' y 'Tax 5%'. Valor (2pts)"
      ],
      "metadata": {
        "id": "XEj_MJy7TvyW"
      }
    },
    {
      "cell_type": "code",
      "source": [],
      "metadata": {
        "id": "yr822I9AGqvp"
      },
      "execution_count": 105,
      "outputs": []
    },
    {
      "cell_type": "markdown",
      "source": [
        "## 2.- Extraer el valor mínimo de la columna rating, con la hora y el día de fue la venta. Valor (2pts)"
      ],
      "metadata": {
        "id": "cxoj3-9YUaqs"
      }
    },
    {
      "cell_type": "code",
      "source": [],
      "metadata": {
        "id": "Yb6I8BN3KK2P"
      },
      "execution_count": 105,
      "outputs": []
    },
    {
      "cell_type": "markdown",
      "source": [
        "## 3.- Transformar los valores de la columna 'Gender' dejando solo la letra inicial del valor. Valor(2pts)"
      ],
      "metadata": {
        "id": "0eRwSDPFVTIm"
      }
    },
    {
      "cell_type": "code",
      "source": [],
      "metadata": {
        "id": "xrHmD0tlVsUk"
      },
      "execution_count": 48,
      "outputs": []
    },
    {
      "cell_type": "markdown",
      "source": [
        "## 4.- ¿Cuál fue el dinero total que ingresó por las ventas en efectivo? Valor(2pts)"
      ],
      "metadata": {
        "id": "wxxtHnBzaWBK"
      }
    },
    {
      "cell_type": "code",
      "source": [],
      "metadata": {
        "id": "4_xOmXkMXwik"
      },
      "execution_count": 105,
      "outputs": []
    },
    {
      "cell_type": "markdown",
      "source": [
        "## 5.- Crear un nuevo dataframe solo con columnas de valor numerico (incluya el id del producto), crea una matriz de correlación, elimina la columna del valor nulo (2pts)"
      ],
      "metadata": {
        "id": "w7VSKd8oeg4H"
      }
    },
    {
      "cell_type": "code",
      "source": [],
      "metadata": {
        "id": "fPCgtuJnfaPU"
      },
      "execution_count": 105,
      "outputs": []
    },
    {
      "cell_type": "markdown",
      "source": [
        "## 6.- En la Matriz anterior que columna tiene una correlación negativa. Valor (2ps)"
      ],
      "metadata": {
        "id": "ta_IfnH8jOjl"
      }
    },
    {
      "cell_type": "code",
      "source": [],
      "metadata": {
        "id": "dP2ejo0ojHaC"
      },
      "execution_count": 105,
      "outputs": []
    },
    {
      "cell_type": "markdown",
      "source": [
        "## 7.- Agregar una nueva columna con el valor de la 'Raíz Cuadrada' de precio unitario. Valor (2pts)"
      ],
      "metadata": {
        "id": "J5lvs-X9jzi6"
      }
    },
    {
      "cell_type": "code",
      "source": [],
      "metadata": {
        "id": "zcp9rTBVp-rj"
      },
      "execution_count": 100,
      "outputs": []
    },
    {
      "cell_type": "markdown",
      "source": [
        "## 8.- Crear un DataFrame solo con las variables categoricas y pasar todos los valores a mayuscula. Valor (2pts)"
      ],
      "metadata": {
        "id": "f07R_cm8tGix"
      }
    },
    {
      "cell_type": "code",
      "source": [],
      "metadata": {
        "id": "uSL5bb1MtKUS"
      },
      "execution_count": null,
      "outputs": []
    },
    {
      "cell_type": "markdown",
      "source": [
        "## 9.- Unir en un solo dataframe los 2 extraidos anteriormente, suma la cantidad de columnas con la cantidad de filas que quedaron. Valor (2pts)\n",
        "\n",
        "\n"
      ],
      "metadata": {
        "id": "KeR6t0dStORP"
      }
    },
    {
      "cell_type": "code",
      "source": [],
      "metadata": {
        "id": "k7ciAtOrtNXY"
      },
      "execution_count": 105,
      "outputs": []
    },
    {
      "cell_type": "markdown",
      "source": [
        "## 10.- Traducir todas los nombres de columnas al español.  Valor (2pts)"
      ],
      "metadata": {
        "id": "Bc4DiyyCvqIO"
      }
    },
    {
      "cell_type": "code",
      "source": [],
      "metadata": {
        "id": "I8pz-twZvVAS"
      },
      "execution_count": null,
      "outputs": []
    },
    {
      "cell_type": "markdown",
      "source": [
        "## 11.- Crear una función que retorne si los valores de la columna cantidad son par o impar, guardar el resultado en una nueva columna. Valor (5pts)"
      ],
      "metadata": {
        "id": "prB2JZc2vyzI"
      }
    },
    {
      "cell_type": "code",
      "source": [],
      "metadata": {
        "id": "OkhvQR-1vU7h"
      },
      "execution_count": null,
      "outputs": []
    },
    {
      "cell_type": "markdown",
      "source": [
        "## 12.- Sumar todos los valores de la columna total donde el valor de cantidad es par, y restarlo al impar. Valor (5pts)"
      ],
      "metadata": {
        "id": "AbLsPczvxJV7"
      }
    },
    {
      "cell_type": "code",
      "source": [],
      "metadata": {
        "id": "4hvnTACswoZN"
      },
      "execution_count": null,
      "outputs": []
    }
  ]
}
